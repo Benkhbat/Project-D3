{
 "cells": [
  {
   "cell_type": "code",
   "execution_count": null,
   "metadata": {},
   "outputs": [],
   "source": [
    "# Dependecies\n",
    "import pandas as pd"
   ]
  },
  {
   "cell_type": "code",
   "execution_count": null,
   "metadata": {},
   "outputs": [],
   "source": [
    "# Read the file\n",
    "superstore = \"Superstore.xls\"\n",
    "superstore_df = pd.read_excel(superstore)"
   ]
  },
  {
   "cell_type": "code",
   "execution_count": null,
   "metadata": {},
   "outputs": [],
   "source": [
    "superstore_df.head(2)"
   ]
  },
  {
   "cell_type": "code",
   "execution_count": null,
   "metadata": {},
   "outputs": [],
   "source": [
    "Superstore = superstore_df[[\"City\", \"State\", \"Code\", \"Latitude\", \"Longitude\", \"Category\", \"Sales\", \"Profit\"]]\n",
    "Superstore"
   ]
  },
  {
   "cell_type": "code",
   "execution_count": null,
   "metadata": {},
   "outputs": [],
   "source": [
    "# SQLAlchemy dependencies \n",
    "\n",
    "# To create engine & declarative base \n",
    "from sqlalchemy import create_engine\n",
    "from sqlalchemy.ext.declarative import declarative_base\n",
    "from sqlalchemy.ext.automap import automap_base\n",
    "from sqlalchemy.orm import Session\n",
    "from sqlalchemy import create_engine, func\n",
    "# For data types\n",
    "from sqlalchemy import Column, Integer, String, Float, Date\n",
    "\n",
    "# Create base\n",
    "Base = declarative_base()\n",
    "\n"
   ]
  },
  {
   "cell_type": "code",
   "execution_count": null,
   "metadata": {},
   "outputs": [],
   "source": [
    "Base.metadata.clear()\n",
    "# Creates Classes which will serve as the anchor points for our Tables\n",
    "class Orders(Base):\n",
    "    __table_args__ = {'extend_existing': True}\n",
    "    __tablename__ = 'Orders'\n",
    "    index = Column(String, primary_key=True)\n",
    "    City = Column(String(255),nullable=True)\n",
    "    State = Column(String(255),nullable=True)\n",
    "    Code = Column(String(255),nullable=True)\n",
    "    Latitude = Column(Float,nullable=True)\n",
    "    Longitude = Column(Float,nullable=True)\n",
    "    Category = Column(String(255),nullable=True)\n",
    "    Sales = Column(Float,nullable=True)\n",
    "    Profit = Column(Float,nullable=True)\n",
    "    \n"
   ]
  },
  {
   "cell_type": "code",
   "execution_count": null,
   "metadata": {},
   "outputs": [],
   "source": [
    "# Create a sqlite engine\n",
    "engine = create_engine(\"sqlite:///superstore.sqlite\")"
   ]
  },
  {
   "cell_type": "code",
   "execution_count": null,
   "metadata": {},
   "outputs": [],
   "source": [
    "# Add metadata to tables\n",
    "Base.metadata.drop_all(engine)\n",
    "Base.metadata.create_all(engine)"
   ]
  },
  {
   "cell_type": "code",
   "execution_count": null,
   "metadata": {},
   "outputs": [],
   "source": [
    "# Data from Excel to respective tables\n",
    "Superstore.to_sql('Orders',engine, if_exists='append',index=True)"
   ]
  },
  {
   "cell_type": "code",
   "execution_count": null,
   "metadata": {},
   "outputs": [],
   "source": [
    "Base = automap_base()\n",
    "\n",
    "# reflect the tables\n",
    "Base.prepare(engine, reflect=True)\n",
    "\n",
    "# Create our session (link) from Python to the DB\n",
    "session = Session(engine)\n"
   ]
  },
  {
   "cell_type": "code",
   "execution_count": null,
   "metadata": {},
   "outputs": [],
   "source": [
    "@app.route(\"JAVASCRIPT DATA LINK\")\n",
    "def Superstore():\n",
    "    \n",
    "    \n",
    "    results = session.query(Orders.index, Orders.City, Orders.State, Orders.Code, Orders.Latitude, Orders.Longitude, \n",
    "                        Orders.Category, Orders.Sales, Orders.Profit).all()\n",
    "\n",
    "\n",
    "    return jsonify(results)\n"
   ]
  },
  {
   "cell_type": "code",
   "execution_count": null,
   "metadata": {},
   "outputs": [],
   "source": [
    "app = Flask(__tablename__)\n",
    "\n",
    "if __name__ == '__tablename__':\n",
    "    app.run(debug=True)\n"
   ]
  }
 ],
 "metadata": {
  "kernelspec": {
   "display_name": "Python 3",
   "language": "python",
   "name": "python3"
  },
  "language_info": {
   "codemirror_mode": {
    "name": "ipython",
    "version": 3
   },
   "file_extension": ".py",
   "mimetype": "text/x-python",
   "name": "python",
   "nbconvert_exporter": "python",
   "pygments_lexer": "ipython3",
   "version": "3.7.1"
  }
 },
 "nbformat": 4,
 "nbformat_minor": 2
}
