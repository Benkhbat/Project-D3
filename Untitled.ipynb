{
 "cells": [
  {
   "cell_type": "code",
   "execution_count": null,
   "metadata": {},
   "outputs": [],
   "source": [
    "from flask import Flask, flash, redirect, render_template, request, session, jsonify, Markup, abort\n",
    "import json\n",
    "\n",
    "\n",
    "#################################################\n",
    "# Flask Setup\n",
    "#################################################\n",
    "app = Flask(__name__)\n",
    "\n",
    "#!/usr/bin/env python\n",
    "# coding: utf-8\n",
    "\n",
    "# In[1]:\n",
    "\n",
    "\n",
    "\n",
    "arr=[]\n",
    "headers = []\n",
    "\n",
    "f = open('Workbook_fifa.csv','r', errors = 'ignore')\n",
    "for header in f.readline().split(','):\n",
    "headers.append(header)\n",
    "\n",
    "#path = \"purchase_data.csv\"\n",
    "\n",
    "\n",
    "for header in f.readline().split(','):\n",
    "headers.append(header)\n",
    "\n",
    "for line in f.readlines():\n",
    "lineItems = {}\n",
    "for i,item in enumerate(line.split(',')):\n",
    "  lineItems[headers[i]] = item\n",
    "arr.append(lineItems)\n",
    "\n",
    "f.close()\n",
    "\n",
    "jsonText = json.dumps(arr)\n",
    "\n",
    "\n",
    "\n",
    "@app.route('/')\n",
    "def home():\n",
    "  #dat=jsonText\n",
    "  #return \"Hello\"\n",
    "  return render_template(\"index.html\",dat=Markup(jsonText))\n",
    "\n",
    "if __name__ == \"__main__\":\n",
    "  app.run(debug=True)"
   ]
  }
 ],
 "metadata": {
  "kernelspec": {
   "display_name": "Python 3",
   "language": "python",
   "name": "python3"
  },
  "language_info": {
   "codemirror_mode": {
    "name": "ipython",
    "version": 3
   },
   "file_extension": ".py",
   "mimetype": "text/x-python",
   "name": "python",
   "nbconvert_exporter": "python",
   "pygments_lexer": "ipython3",
   "version": "3.7.1"
  }
 },
 "nbformat": 4,
 "nbformat_minor": 2
}
